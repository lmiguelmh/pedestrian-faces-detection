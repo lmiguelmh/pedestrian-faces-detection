{
 "cells": [
  {
   "cell_type": "markdown",
   "metadata": {
    "collapsed": true
   },
   "source": [
    "### Alberto Fujimori & Vladimiro Montesinos\n",
    "\n",
    "Demo1: https://youtu.be/VuHyhfjWtbk\n",
    "Demo2: https://youtu.be/iCdhDqaoZHY"
   ]
  },
  {
   "cell_type": "code",
   "execution_count": 4,
   "metadata": {},
   "outputs": [
    {
     "name": "stdout",
     "output_type": "stream",
     "text": [
      "Enroll... Done\n"
     ]
    }
   ],
   "source": [
    "import facedb\n",
    "\n",
    "directory = \"/home/deeplearning/Desktop/projects/tesis/datasets/lfw/lfw-deepfunneled/\"\n",
    "people = [\"Alberto_Fujimori\", \"Vladimiro_Montesinos\"]\n",
    "names, templates = facedb.enroll(directory, people)\n",
    "print(\"Enroll... Done\")"
   ]
  },
  {
   "cell_type": "markdown",
   "metadata": {},
   "source": [
    "#### Reading a video and detecting landmarks"
   ]
  },
  {
   "cell_type": "code",
   "execution_count": 8,
   "metadata": {},
   "outputs": [],
   "source": [
    "import cv2\n",
    "import face\n",
    "import numpy as np\n",
    "\n",
    "# https://opencv-python-tutroals.readthedocs.io/en/latest/py_tutorials/py_gui/py_video_display/py_video_display.html\n",
    "video_path = \"/home/deeplearning/Desktop/projects/tesis/datasets/youtube/alberto3.mp4\"\n",
    "video = cv2.VideoCapture(video_path)\n",
    "while video.isOpened():\n",
    "    ret, frame = video.read()\n",
    "    drawn_frame = frame.copy() \n",
    "    face.draw_landmarks_2(drawn_frame)\n",
    "    new_frame = np.concatenate((frame, drawn_frame), axis=1)\n",
    "    cv2.imshow('video', new_frame)\n",
    "\n",
    "    if cv2.waitKey(10) & 0xFF == ord('q'):\n",
    "        break\n",
    "\n",
    "video.release()\n",
    "cv2.destroyAllWindows()"
   ]
  },
  {
   "cell_type": "markdown",
   "metadata": {},
   "source": [
    "#### Reading a video an identifying people "
   ]
  },
  {
   "cell_type": "code",
   "execution_count": 6,
   "metadata": {
    "collapsed": false
   },
   "outputs": [
    {
     "name": "stdout",
     "output_type": "stream",
     "text": [
      "Enroll... Done\n"
     ]
    }
   ],
   "source": [
    "import cv2\n",
    "import face_recognition\n",
    "import face\n",
    "import facedb\n",
    "import numpy as np\n",
    "\n",
    "directory = \"/home/deeplearning/Desktop/projects/tesis/datasets/lfw/lfw-deepfunneled/\"\n",
    "people = [\"Alberto_Fujimori\", \"Vladimiro_Montesinos\"]\n",
    "names, templates = facedb.enroll(directory, people)\n",
    "print(\"Enroll... Done\")\n",
    "\n",
    "# https://opencv-python-tutroals.readthedocs.io/en/latest/py_tutorials/py_gui/py_video_display/py_video_display.html\n",
    "video_path = \"/home/deeplearning/Desktop/projects/tesis/datasets/youtube/alberto3.mp4\"\n",
    "video = cv2.VideoCapture(video_path)\n",
    "while video.isOpened():\n",
    "    ret, frame = video.read()\n",
    "\n",
    "    proportion = 1.0\n",
    "    small_frame = cv2.resize(frame, (0, 0), fx=proportion, fy=proportion)\n",
    "    small_frame_locations = face_recognition.face_locations(small_frame)\n",
    "    small_frame_templates = face_recognition.face_encodings(small_frame, small_frame_locations)\n",
    "    small_frame_names = []\n",
    "    for template in small_frame_templates:\n",
    "        candidates = facedb.get_candidates_names(template, names, templates, 0.6)\n",
    "        if len(candidates) == 0:\n",
    "            name = \"???\"\n",
    "        else:\n",
    "            name = candidates[0]  # todo only the first candidate\n",
    "        small_frame_names.append(name)\n",
    "\n",
    "    for (top, right, bottom, left), name in zip(small_frame_locations, small_frame_names):\n",
    "        top = int(top / proportion)\n",
    "        right = int(right / proportion)\n",
    "        bottom = int(bottom / proportion)\n",
    "        left = int(left / proportion)\n",
    "\n",
    "        font_face = cv2.FONT_HERSHEY_DUPLEX\n",
    "        font_scale = 0.5\n",
    "        font_thickness = 1\n",
    "        name_size, name_baseline = cv2.getTextSize(name, font_face, font_scale,\n",
    "                                                   font_thickness)  # ((57, 17), 7) (size, baseline)\n",
    "\n",
    "        cv2.rectangle(frame, (left, top), (right, bottom), (0, 0, 255), 2)\n",
    "        cv2.rectangle(frame, \n",
    "                      (((left + right) >> 1) - (name_size[0] >> 1) - 6, bottom - name_size[1] - 6),\n",
    "                      (((left + right) >> 1) + (name_size[0] >> 1) + 6, bottom + 6), \n",
    "                      (0, 0, 255), cv2.FILLED)\n",
    "        cv2.putText(frame, name, \n",
    "                    (((left + right) >> 1) - (name_size[0] >> 1) + 3, bottom - 3), \n",
    "                    font_face, font_scale, (255, 255, 255), font_thickness)\n",
    "\n",
    "    cv2.imshow('video', frame)\n",
    "\n",
    "    if cv2.waitKey(10) & 0xFF == ord('q'):\n",
    "        break\n",
    "\n",
    "video.release()\n",
    "cv2.destroyAllWindows()"
   ]
  },
  {
   "cell_type": "code",
   "execution_count": null,
   "metadata": {},
   "outputs": [],
   "source": [
    ""
   ]
  },
  {
   "cell_type": "code",
   "execution_count": null,
   "metadata": {},
   "outputs": [],
   "source": [
    "import numpy as np\n",
    "import cv2\n",
    "\n",
    "cap = cv2.VideoCapture(0)\n",
    "\n",
    "# Define the codec and create VideoWriter object\n",
    "fourcc = cv2.cv.CV_FOURCC(*'XVID')\n",
    "out = cv2.VideoWriter('output.avi',fourcc, 20.0, (640,480))\n",
    "\n",
    "while(cap.isOpened()):\n",
    "    ret, frame = cap.read()\n",
    "    if ret==True:\n",
    "        frame = cv2.flip(frame,0)\n",
    "\n",
    "        # write the flipped frame\n",
    "        out.write(frame)\n",
    "\n",
    "        cv2.imshow('frame',frame)\n",
    "        if cv2.waitKey(1) & 0xFF == ord('q'):\n",
    "            break\n",
    "    else:\n",
    "        break\n",
    "\n",
    "# Release everything if job is finished\n",
    "cap.release()\n",
    "out.release()\n",
    "cv2.destroyAllWindows()"
   ]
  }
 ],
 "metadata": {
  "kernelspec": {
   "display_name": "Python 2",
   "language": "python",
   "name": "python2"
  },
  "language_info": {
   "codemirror_mode": {
    "name": "ipython",
    "version": 2.0
   },
   "file_extension": ".py",
   "mimetype": "text/x-python",
   "name": "python",
   "nbconvert_exporter": "python",
   "pygments_lexer": "ipython2",
   "version": "2.7.6"
  }
 },
 "nbformat": 4,
 "nbformat_minor": 0
}